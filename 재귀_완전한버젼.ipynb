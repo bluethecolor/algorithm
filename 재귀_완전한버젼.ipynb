{
 "cells": [
  {
   "cell_type": "code",
   "execution_count": 3,
   "metadata": {},
   "outputs": [],
   "source": [
    "def openBox():\n",
    "    global count\n",
    "    print('상자 열기~~~')\n",
    "    count -= 1\n",
    "    if count ==0:\n",
    "        print('***선물 넣기***')\n",
    "        return\n",
    "    openBox()\n",
    "    print('상자 닫기####')"
   ]
  },
  {
   "cell_type": "code",
   "execution_count": 4,
   "metadata": {},
   "outputs": [
    {
     "name": "stdout",
     "output_type": "stream",
     "text": [
      "상자 열기~~~\n",
      "상자 열기~~~\n",
      "상자 열기~~~\n",
      "상자 열기~~~\n",
      "상자 열기~~~\n",
      "상자 열기~~~\n",
      "상자 열기~~~\n",
      "상자 열기~~~\n",
      "상자 열기~~~\n",
      "상자 열기~~~\n",
      "***선물 넣기***\n",
      "상자 닫기####\n",
      "상자 닫기####\n",
      "상자 닫기####\n",
      "상자 닫기####\n",
      "상자 닫기####\n",
      "상자 닫기####\n",
      "상자 닫기####\n",
      "상자 닫기####\n",
      "상자 닫기####\n"
     ]
    }
   ],
   "source": [
    "## 메인\n",
    "count = 10\n",
    "openBox()"
   ]
  },
  {
   "cell_type": "code",
   "execution_count": null,
   "metadata": {},
   "outputs": [],
   "source": []
  }
 ],
 "metadata": {
  "kernelspec": {
   "display_name": "base",
   "language": "python",
   "name": "python3"
  },
  "language_info": {
   "codemirror_mode": {
    "name": "ipython",
    "version": 3
   },
   "file_extension": ".py",
   "mimetype": "text/x-python",
   "name": "python",
   "nbconvert_exporter": "python",
   "pygments_lexer": "ipython3",
   "version": "3.9.13"
  },
  "orig_nbformat": 4,
  "vscode": {
   "interpreter": {
    "hash": "30baee32c445b56b5bebd971439750611d62fad669ff493377e475030ea087db"
   }
  }
 },
 "nbformat": 4,
 "nbformat_minor": 2
}
