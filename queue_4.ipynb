{
 "cells": [
  {
   "cell_type": "code",
   "execution_count": 3,
   "metadata": {},
   "outputs": [],
   "source": [
    "## 함수\n",
    "def isQueueFull():\n",
    "    global SIZE, queue, front, rear\n",
    "    if (rear + 1) % SIZE == front :\n",
    "        return True\n",
    "    else:\n",
    "        return False\n",
    "    \n",
    "\n",
    "\n",
    "def enQueue(data):\n",
    "    global SIZE, queue, front, rear\n",
    "    if isQueueFull():\n",
    "        print('큐 꽉!!!')\n",
    "        return\n",
    "    rear = (rear +1) % SIZE\n",
    "    queue[rear] = data\n",
    "\n",
    "\n",
    "def isQueueEmpty():\n",
    "    global SIZE, queue, front, rear\n",
    "    if front == rear:\n",
    "        return True\n",
    "    else:\n",
    "        return False\n",
    "\n",
    "\n",
    "\n",
    "def deQueue():\n",
    "    global SIZE, queue, front, rear\n",
    "    if isQueueEmpty():\n",
    "        print('큐 텅~~~')\n",
    "        return\n",
    "    front = (front + 1) % SIZE\n",
    "    data = queue[front]\n",
    "    queue[front] = None\n",
    "    return data\n",
    "\n",
    "def peek():\n",
    "    global SIZE, queue, front, rear\n",
    "    if isQueueEmpty():\n",
    "        print('큐 텅~~~')\n",
    "        return\n",
    "    return queue[(front + 1) % SIZE]"
   ]
  },
  {
   "cell_type": "code",
   "execution_count": 1,
   "metadata": {},
   "outputs": [],
   "source": [
    "## 변수\n",
    "SIZE = 5\n",
    "queue = [None for _ in range(SIZE)]\n",
    "front = rear = 0"
   ]
  },
  {
   "cell_type": "code",
   "execution_count": 4,
   "metadata": {},
   "outputs": [
    {
     "name": "stdout",
     "output_type": "stream",
     "text": [
      "출구 <--  ['화사', '솔라', '문별', '휘인', '선미']  <--- 입구\n",
      "------------------------------\n"
     ]
    }
   ],
   "source": [
    "## 메인\n",
    "enQueue('화사')\n",
    "enQueue('솔라')\n",
    "enQueue('문별')\n",
    "enQueue('휘인')\n",
    "enQueue('선미')\n",
    "print('출구 <-- ', queue, ' <--- 입구')\n",
    "print(10*'---')\n",
    "\n",
    "# enQueue('재남')\n",
    "# print('출구 <-- ', queue, ' <--- 입구')\n",
    "\n",
    "# retData = deQueue()\n",
    "# print('식사손님 --> ', retData)\n",
    "# print('** 준비하세요 : ', peek())\n",
    "# retData = deQueue()\n",
    "# print('식사손님 --> ', retData)\n",
    "# print('출구 <-- ', queue, ' <--- 입구')\n",
    "# print(10*'---')\n",
    "\n",
    "# enQueue('재남')\n",
    "# print('출구 <-- ', queue, ' <--- 입구')\n",
    "# enQueue('뷔')\n",
    "# print('출구 <-- ', queue, ' <--- 입구')\n",
    "# enQueue('길동')\n",
    "# print('출구 <-- ', queue, ' <--- 입구')\n",
    "\n",
    "\n",
    "\n",
    "\n"
   ]
  },
  {
   "cell_type": "code",
   "execution_count": null,
   "metadata": {},
   "outputs": [],
   "source": []
  }
 ],
 "metadata": {
  "kernelspec": {
   "display_name": "base",
   "language": "python",
   "name": "python3"
  },
  "language_info": {
   "codemirror_mode": {
    "name": "ipython",
    "version": 3
   },
   "file_extension": ".py",
   "mimetype": "text/x-python",
   "name": "python",
   "nbconvert_exporter": "python",
   "pygments_lexer": "ipython3",
   "version": "3.9.13"
  },
  "orig_nbformat": 4,
  "vscode": {
   "interpreter": {
    "hash": "30baee32c445b56b5bebd971439750611d62fad669ff493377e475030ea087db"
   }
  }
 },
 "nbformat": 4,
 "nbformat_minor": 2
}
