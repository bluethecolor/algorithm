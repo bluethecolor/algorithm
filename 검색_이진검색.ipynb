{
 "cells": [
  {
   "cell_type": "code",
   "execution_count": 14,
   "metadata": {},
   "outputs": [],
   "source": [
    "## 함수\n",
    "import random\n",
    "def binSearch(ary, fData) :\n",
    "    pos = -1\n",
    "    start = 0\n",
    "    end = len(ary) -1\n",
    "    while start <= end:\n",
    "        mid = (start + end) // 2\n",
    "        if (ary[mid] == fData):\n",
    "            pos = mid\n",
    "            break\n",
    "        elif ary[mid] < fData:\n",
    "            start = mid + 1\n",
    "        else: #ary[mid] > fData\n",
    "            end = mid -1\n",
    "    return pos"
   ]
  },
  {
   "cell_type": "code",
   "execution_count": 15,
   "metadata": {},
   "outputs": [],
   "source": [
    "## 변수\n",
    "SIZE = 10\n",
    "dataAry = [random.randint(40,200) for _ in range(SIZE)]\n",
    "dataAry.sort()\n",
    "findData = random.choice(dataAry)\n",
    "# findData = 999"
   ]
  },
  {
   "cell_type": "code",
   "execution_count": 16,
   "metadata": {},
   "outputs": [
    {
     "name": "stdout",
     "output_type": "stream",
     "text": [
      "배열--> [59, 76, 92, 134, 141, 154, 164, 176, 176, 186]\n",
      "134 는 3 위치에 있음\n"
     ]
    }
   ],
   "source": [
    "## 메인\n",
    "print('배열-->', dataAry)\n",
    "position = binSearch(dataAry, findData)\n",
    "if position == -1:\n",
    "    print(findData, '는', position, '없어유')\n",
    "else:\n",
    "    print(findData, '는', position, '위치에 있음')\n",
    "    \n"
   ]
  },
  {
   "cell_type": "code",
   "execution_count": null,
   "metadata": {},
   "outputs": [],
   "source": []
  }
 ],
 "metadata": {
  "kernelspec": {
   "display_name": "base",
   "language": "python",
   "name": "python3"
  },
  "language_info": {
   "codemirror_mode": {
    "name": "ipython",
    "version": 3
   },
   "file_extension": ".py",
   "mimetype": "text/x-python",
   "name": "python",
   "nbconvert_exporter": "python",
   "pygments_lexer": "ipython3",
   "version": "3.9.13"
  },
  "orig_nbformat": 4,
  "vscode": {
   "interpreter": {
    "hash": "30baee32c445b56b5bebd971439750611d62fad669ff493377e475030ea087db"
   }
  }
 },
 "nbformat": 4,
 "nbformat_minor": 2
}
