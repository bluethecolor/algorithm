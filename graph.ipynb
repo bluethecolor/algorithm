{
 "cells": [
  {
   "cell_type": "code",
   "execution_count": 2,
   "metadata": {},
   "outputs": [],
   "source": [
    "## 함수\n",
    "class Graph():\n",
    "    def __init__(self, size):\n",
    "        self.graph = [[0 for _ in range(size)] for _ in range(size)]"
   ]
  },
  {
   "cell_type": "code",
   "execution_count": 18,
   "metadata": {},
   "outputs": [
    {
     "name": "stdout",
     "output_type": "stream",
     "text": [
      "0  1  1  1  \n",
      "1  0  1  0  \n",
      "1  1  0  1  \n",
      "1  0  1  0  \n"
     ]
    }
   ],
   "source": [
    "## 메인\n",
    "G1 = Graph(4)\n",
    "A,B,C,D = 0,1,2,3\n",
    "\n",
    "G1.graph[A][B] = G1.graph[B][A] = 1\n",
    "G1.graph[A][C] = G1.graph[C][A] = 1\n",
    "G1.graph[A][D] = G1.graph[D][A] = 1\n",
    "G1.graph[B][C] = G1.graph[C][B] = 1\n",
    "G1.graph[C][D] = G1.graph[D][C] = 1\n",
    "\n",
    "for row in range(4):\n",
    "    for col in range(4):\n",
    "        print(G1.graph[row][col], end = '  ')\n",
    "    print()"
   ]
  },
  {
   "cell_type": "code",
   "execution_count": null,
   "metadata": {},
   "outputs": [],
   "source": []
  }
 ],
 "metadata": {
  "kernelspec": {
   "display_name": "base",
   "language": "python",
   "name": "python3"
  },
  "language_info": {
   "codemirror_mode": {
    "name": "ipython",
    "version": 3
   },
   "file_extension": ".py",
   "mimetype": "text/x-python",
   "name": "python",
   "nbconvert_exporter": "python",
   "pygments_lexer": "ipython3",
   "version": "3.9.13"
  },
  "orig_nbformat": 4,
  "vscode": {
   "interpreter": {
    "hash": "30baee32c445b56b5bebd971439750611d62fad669ff493377e475030ea087db"
   }
  }
 },
 "nbformat": 4,
 "nbformat_minor": 2
}
