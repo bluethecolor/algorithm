{
 "cells": [
  {
   "cell_type": "code",
   "execution_count": 52,
   "metadata": {},
   "outputs": [],
   "source": [
    "## 함수\n",
    "class Node():    # class 이름은 관례로 대문자로 씀.\n",
    "    def __init__(self):\n",
    "        self.data = None\n",
    "        self.link = None\n",
    "\n",
    "def printNodes(start):\n",
    "    current = start\n",
    "    print(current.data, end= ' ')\n",
    "    while (current.link != None) :\n",
    "        current = current.link\n",
    "        print(current.data, end= ' ')\n",
    "    print()\n",
    "\n",
    "def insertNode(findData, insertdata):\n",
    "    global memory, head, current, pre\n",
    "    # Case 1 : 머리 앞에 삽입 (다현, 화사)\n",
    "    if (findData == head.data):\n",
    "        node = Node()\n",
    "        node.data = insertdata\n",
    "        node.link = head\n",
    "        head = node\n",
    "        memory.append(node)\n",
    "        return\n",
    "    # Case 2 : 중간 노드 앞에 삽입 (시나, 솔라)\n",
    "    current = head\n",
    "    while (current.link != None):\n",
    "        pre = current\n",
    "        current = current.link\n",
    "        if (current.data == findData):\n",
    "            node = Node()\n",
    "            node.data = insertdata\n",
    "            node.link = current\n",
    "            pre.link = node\n",
    "            memory.append(node)\n",
    "            return\n",
    "    # Case 3 : 없는 노드 앞에 삽입 (=뒤에 추가) (재남, 문별)\n",
    "    node = Node()\n",
    "    node.data = insertdata\n",
    "    current.link = node\n",
    "    memory.append(node)\n",
    "    return\n",
    "\n",
    "def deleteNode(delData):\n",
    "    global memory, head, current, pre\n",
    "    # Case 1 : 머리를 삭제할 때 (다현)\n",
    "    if (delData == head.data):\n",
    "        current = head\n",
    "        head = head.link\n",
    "        del(current)\n",
    "        return\n",
    "    # Case 2 : 중간 노드를 삭제할 떄 (쯔위)\n",
    "    current = head\n",
    "    while (current.link != None):\n",
    "        pre = current\n",
    "        current = current.link\n",
    "        if (current.data == delData):\n",
    "            pre.link = current.link\n",
    "            del(current)\n",
    "            return\n",
    "    # Case 3 : 없는 노드를 삭제할 떄 (재남)\n",
    "    return\n",
    "\n",
    "def findNode(findData):\n",
    "    global memory, head, current, pre\n",
    "    current = head\n",
    "    if (current == findData):\n",
    "        return current # 노드를 통째로 리턴\n",
    "    while ( current.link != None):\n",
    "        current = current.link\n",
    "        if (current.data == findData):\n",
    "            return current\n",
    "    return Node() # 찾는게 없으면 빈 노드를 리턴\n",
    "    \n",
    "\n",
    "\n"
   ]
  },
  {
   "cell_type": "code",
   "execution_count": 53,
   "metadata": {},
   "outputs": [],
   "source": [
    "## 변수\n",
    "memory = []\n",
    "head, current, pre = None, None, None\n",
    "dataAry = ['다현','정연','쯔위','사나','지효']\n"
   ]
  },
  {
   "cell_type": "code",
   "execution_count": 54,
   "metadata": {},
   "outputs": [
    {
     "name": "stdout",
     "output_type": "stream",
     "text": [
      "다현 정연 쯔위 사나 지효 \n"
     ]
    }
   ],
   "source": [
    "## 메인\n",
    "# 첫 노드 만들기\n",
    "node = Node()\n",
    "node.data = dataAry[0]\n",
    "head = node\n",
    "memory.append(node)\n",
    "\n",
    "# 두번쨰 이후 노드 만들기\n",
    "for data in dataAry[1:] : # ['정연','쯔위',...] 순으로 하나씩 호출\n",
    "    pre = node  # 전 노드였던 '다현'을 붙잡아놓고 새로 재사용\n",
    "    node = Node()\n",
    "    node.data = data\n",
    "    pre.link = node # '다현 '과 '정연' 이어줌\n",
    "    memory.append(node)\n",
    "\n",
    "printNodes(head)\n",
    "\n",
    "\n"
   ]
  },
  {
   "cell_type": "code",
   "execution_count": 55,
   "metadata": {},
   "outputs": [
    {
     "name": "stdout",
     "output_type": "stream",
     "text": [
      "사나 의 뮤비가 나옵니다.\n"
     ]
    }
   ],
   "source": [
    "# insertNode('다현', '화사') # '다현'을 찾아서 그 앞에 '화사' 삽입\n",
    "# printNodes(head)\n",
    "\n",
    "# insertNode('사나', '솔라')\n",
    "# printNodes(head)\n",
    "\n",
    "# insertNode('재남', '문별') # 없는거 앞에 삽입\n",
    "# printNodes(head)\n",
    "\n",
    "# deleteNode('다현') # 헤드인 다현 삭제\n",
    "# printNodes(head)\n",
    "\n",
    "# deleteNode('쯔위') # 중간쯤인 쯔위 삭제\n",
    "# printNodes(head)\n",
    "\n",
    "# deleteNode('재남') # 없는 재남을 삭제\n",
    "# printNodes(head)\n",
    "\n",
    "retData = findNode('사나')\n",
    "print(retData.data, '의 뮤비가 나옵니다.')\n"
   ]
  },
  {
   "cell_type": "code",
   "execution_count": null,
   "metadata": {},
   "outputs": [],
   "source": []
  }
 ],
 "metadata": {
  "kernelspec": {
   "display_name": "base",
   "language": "python",
   "name": "python3"
  },
  "language_info": {
   "codemirror_mode": {
    "name": "ipython",
    "version": 3
   },
   "file_extension": ".py",
   "mimetype": "text/x-python",
   "name": "python",
   "nbconvert_exporter": "python",
   "pygments_lexer": "ipython3",
   "version": "3.9.13 (main, Aug 25 2022, 18:29:29) \n[Clang 12.0.0 ]"
  },
  "orig_nbformat": 4,
  "vscode": {
   "interpreter": {
    "hash": "30baee32c445b56b5bebd971439750611d62fad669ff493377e475030ea087db"
   }
  }
 },
 "nbformat": 4,
 "nbformat_minor": 2
}
