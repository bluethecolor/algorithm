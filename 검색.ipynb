{
 "cells": [
  {
   "cell_type": "code",
   "execution_count": 10,
   "metadata": {},
   "outputs": [],
   "source": [
    "## 함수\n",
    "import random\n",
    "def seqSearch(ary, fData) :\n",
    "    pos = -1\n",
    "    size  = len(ary)\n",
    "    for i in range(size):\n",
    "        if ary[i] == fData:  #원하는거 찾았을 때\n",
    "            pos = i\n",
    "            break # 찾았으니 끝\n",
    "    return pos"
   ]
  },
  {
   "cell_type": "code",
   "execution_count": 11,
   "metadata": {},
   "outputs": [],
   "source": [
    "## 변수\n",
    "SIZE = 8\n",
    "dataAry = [random.randint(40,200) for _ in range(SIZE)]\n",
    "findData = random.choice(dataAry)"
   ]
  },
  {
   "cell_type": "code",
   "execution_count": 12,
   "metadata": {},
   "outputs": [
    {
     "name": "stdout",
     "output_type": "stream",
     "text": [
      "배열--> [177, 80, 70, 57, 44, 122, 122, 46]\n",
      "122 는 5 위치에 있음\n"
     ]
    }
   ],
   "source": [
    "## 메인\n",
    "print('배열-->', dataAry)\n",
    "position = seqSearch(dataAry, findData)\n",
    "if position == -1:\n",
    "    print(findData, '는', position, '없어유')\n",
    "else:\n",
    "    print(findData, '는', position, '위치에 있음')\n",
    "    \n"
   ]
  },
  {
   "cell_type": "code",
   "execution_count": null,
   "metadata": {},
   "outputs": [],
   "source": []
  }
 ],
 "metadata": {
  "kernelspec": {
   "display_name": "base",
   "language": "python",
   "name": "python3"
  },
  "language_info": {
   "codemirror_mode": {
    "name": "ipython",
    "version": 3
   },
   "file_extension": ".py",
   "mimetype": "text/x-python",
   "name": "python",
   "nbconvert_exporter": "python",
   "pygments_lexer": "ipython3",
   "version": "3.9.13 (main, Aug 25 2022, 18:29:29) \n[Clang 12.0.0 ]"
  },
  "orig_nbformat": 4,
  "vscode": {
   "interpreter": {
    "hash": "30baee32c445b56b5bebd971439750611d62fad669ff493377e475030ea087db"
   }
  }
 },
 "nbformat": 4,
 "nbformat_minor": 2
}
