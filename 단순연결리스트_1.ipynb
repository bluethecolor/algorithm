{
 "cells": [
  {
   "cell_type": "code",
   "execution_count": 10,
   "metadata": {},
   "outputs": [],
   "source": [
    "## 함수\n",
    "class Node():    # class 이름은 관례로 대문자로 씀.\n",
    "    def __init__(self):\n",
    "        self.data = None\n",
    "        self.link = None"
   ]
  },
  {
   "cell_type": "code",
   "execution_count": 11,
   "metadata": {},
   "outputs": [],
   "source": [
    "## 변수"
   ]
  },
  {
   "cell_type": "code",
   "execution_count": 22,
   "metadata": {},
   "outputs": [
    {
     "name": "stdout",
     "output_type": "stream",
     "text": [
      "다현 정연 사나 지효 \n"
     ]
    }
   ],
   "source": [
    "## 메인\n",
    "node1 = Node()\n",
    "node1.data = '다현'\n",
    "\n",
    "node2 = Node()\n",
    "node2.data = '정연'\n",
    "node1.link = node2 \n",
    "\n",
    "node3 = Node()\n",
    "node3.data = '쯔위'\n",
    "node2.link = node3\n",
    "\n",
    "node4 = Node()\n",
    "node4.data = '사나'\n",
    "node3.link = node4\n",
    "\n",
    "node5 = Node()\n",
    "node5.data = '지효'\n",
    "node4.link = node5\n",
    "\n",
    "# newnode = Node()\n",
    "# newnode.data = '재남'\n",
    "# newnode.link = node2.link\n",
    "# node2.link = newnode\n",
    "\n",
    "node2.link = node3.link\n",
    "del(node2)\n",
    "\n",
    "current = node1\n",
    "print(current.data, end= ' ')\n",
    "while (current.link != None) :\n",
    "    current = current.link\n",
    "    print(current.data, end= ' ')\n",
    "print()\n",
    "\n",
    "\n",
    "\n",
    "\n",
    "# print(node1.data, end = ' ')\n",
    "# print(node1.link.data, end = ' ')\n",
    "# print(node1.link.link.data, end = ' ')\n",
    "# print(node1.link.link.link.data, end = ' ')\n",
    "# print(node1.link.link.link.link.data, end = ' ')\n",
    "# print(node1.link.link.link.link.link.data, end = ' ')"
   ]
  },
  {
   "cell_type": "code",
   "execution_count": null,
   "metadata": {},
   "outputs": [],
   "source": []
  }
 ],
 "metadata": {
  "kernelspec": {
   "display_name": "base",
   "language": "python",
   "name": "python3"
  },
  "language_info": {
   "codemirror_mode": {
    "name": "ipython",
    "version": 3
   },
   "file_extension": ".py",
   "mimetype": "text/x-python",
   "name": "python",
   "nbconvert_exporter": "python",
   "pygments_lexer": "ipython3",
   "version": "3.9.13 (main, Aug 25 2022, 18:29:29) \n[Clang 12.0.0 ]"
  },
  "orig_nbformat": 4,
  "vscode": {
   "interpreter": {
    "hash": "30baee32c445b56b5bebd971439750611d62fad669ff493377e475030ea087db"
   }
  }
 },
 "nbformat": 4,
 "nbformat_minor": 2
}
